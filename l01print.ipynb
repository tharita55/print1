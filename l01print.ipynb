{
  "nbformat": 4,
  "nbformat_minor": 0,
  "metadata": {
    "colab": {
      "provenance": [],
      "authorship_tag": "ABX9TyPCLc6GA0gHWEd3cPjRM2Xw",
      "include_colab_link": true
    },
    "kernelspec": {
      "name": "python3",
      "display_name": "Python 3"
    },
    "language_info": {
      "name": "python"
    }
  },
  "cells": [
    {
      "cell_type": "markdown",
      "metadata": {
        "id": "view-in-github",
        "colab_type": "text"
      },
      "source": [
        "<a href=\"https://colab.research.google.com/github/tharita55/print1/blob/main/l01print.ipynb\" target=\"_parent\"><img src=\"https://colab.research.google.com/assets/colab-badge.svg\" alt=\"Open In Colab\"/></a>"
      ]
    },
    {
      "cell_type": "code",
      "execution_count": null,
      "metadata": {
        "colab": {
          "base_uri": "https://localhost:8080/"
        },
        "id": "hsfB8Qw43aXt",
        "outputId": "3f890d64-e6eb-4b3d-8a5f-cd6513b2eb11"
      },
      "outputs": [
        {
          "output_type": "stream",
          "name": "stdout",
          "text": [
            "Hello World!\n"
          ]
        }
      ],
      "source": [
        "print('Hello World!')"
      ]
    },
    {
      "cell_type": "code",
      "source": [
        "print('Information and Network Engineering')"
      ],
      "metadata": {
        "colab": {
          "base_uri": "https://localhost:8080/"
        },
        "id": "AN0mvxu_4kf1",
        "outputId": "a848c06b-51d2-4f56-a867-7634c9d14b19"
      },
      "execution_count": null,
      "outputs": [
        {
          "output_type": "stream",
          "name": "stdout",
          "text": [
            "Information and Network Engineering\n"
          ]
        }
      ]
    },
    {
      "cell_type": "code",
      "source": [
        "print('Hello Tharita you will be great')"
      ],
      "metadata": {
        "colab": {
          "base_uri": "https://localhost:8080/"
        },
        "id": "Abz94VtN42rm",
        "outputId": "3ac2a4c1-cd7d-48d9-9c7a-81f6d017d400"
      },
      "execution_count": null,
      "outputs": [
        {
          "output_type": "stream",
          "name": "stdout",
          "text": [
            "Hello Tharita you will be great\n"
          ]
        }
      ]
    },
    {
      "cell_type": "code",
      "source": [
        "print('Hello again')"
      ],
      "metadata": {
        "colab": {
          "base_uri": "https://localhost:8080/"
        },
        "id": "BwiHgmeJ8Xkm",
        "outputId": "2bd69728-eed0-410b-dd81-12c173a0e1a8"
      },
      "execution_count": null,
      "outputs": [
        {
          "output_type": "stream",
          "name": "stdout",
          "text": [
            "Hello again\n"
          ]
        }
      ]
    },
    {
      "cell_type": "code",
      "source": [
        "print(\"I'm hungry\")"
      ],
      "metadata": {
        "colab": {
          "base_uri": "https://localhost:8080/"
        },
        "id": "AdW1Ymb28nb0",
        "outputId": "2c76f337-e6d4-48e6-f242-f4b3ff595ad8"
      },
      "execution_count": null,
      "outputs": [
        {
          "output_type": "stream",
          "name": "stdout",
          "text": [
            "I'm hungry\n"
          ]
        }
      ]
    },
    {
      "cell_type": "code",
      "source": [
        "print('He ask me \"Who got the book?\"')"
      ],
      "metadata": {
        "colab": {
          "base_uri": "https://localhost:8080/"
        },
        "id": "RbpalIJJ8uI8",
        "outputId": "563d88b6-6c94-4ae7-db34-d41171015e18"
      },
      "execution_count": null,
      "outputs": [
        {
          "output_type": "stream",
          "name": "stdout",
          "text": [
            "He ask me \"Who got the book?\"\n"
          ]
        }
      ]
    },
    {
      "cell_type": "code",
      "source": [
        "print(\"I'm good and \\\"I will do my best\\\"\")"
      ],
      "metadata": {
        "colab": {
          "base_uri": "https://localhost:8080/"
        },
        "id": "bV3GnmNC-C6c",
        "outputId": "7c7c1d6c-488f-4705-ba16-6b88209c23bc"
      },
      "execution_count": null,
      "outputs": [
        {
          "output_type": "stream",
          "name": "stdout",
          "text": [
            "I'm good and \"I will do my best\"\n"
          ]
        }
      ]
    },
    {
      "cell_type": "code",
      "source": [
        "print('/\\\\')"
      ],
      "metadata": {
        "colab": {
          "base_uri": "https://localhost:8080/"
        },
        "id": "EPEMPROA-dCU",
        "outputId": "cb78c538-b050-48b5-914d-997fc1d3a24b"
      },
      "execution_count": null,
      "outputs": [
        {
          "output_type": "stream",
          "name": "stdout",
          "text": [
            "/\\\n"
          ]
        }
      ]
    },
    {
      "cell_type": "code",
      "source": [
        "print('\\ta\\na\\ta\\ta\\n\\ta')"
      ],
      "metadata": {
        "colab": {
          "base_uri": "https://localhost:8080/"
        },
        "id": "rd4HJrLy-kXc",
        "outputId": "a9c1fa8b-7a13-4e6d-dca2-ee22f376af35"
      },
      "execution_count": null,
      "outputs": [
        {
          "output_type": "stream",
          "name": "stdout",
          "text": [
            "\ta\n",
            "a\ta\ta\n",
            "\ta\n"
          ]
        }
      ]
    },
    {
      "cell_type": "code",
      "source": [
        "print('''\\ta\n",
        "a\\ta\\ta\n",
        "\\ta''')"
      ],
      "metadata": {
        "colab": {
          "base_uri": "https://localhost:8080/"
        },
        "id": "aljIoz99_x1t",
        "outputId": "3f55e6d8-f1e2-4983-8583-e8e0ebae94d7"
      },
      "execution_count": null,
      "outputs": [
        {
          "output_type": "stream",
          "name": "stdout",
          "text": [
            "\ta\n",
            "a\ta\ta\n",
            "\ta\n"
          ]
        }
      ]
    },
    {
      "cell_type": "code",
      "source": [
        "print('100.00')"
      ],
      "metadata": {
        "colab": {
          "base_uri": "https://localhost:8080/"
        },
        "id": "s5L1XAkCHiH7",
        "outputId": "c2ac10dc-2f60-437d-8e2b-a063d8a0c99a"
      },
      "execution_count": null,
      "outputs": [
        {
          "output_type": "stream",
          "name": "stdout",
          "text": [
            "100.00\n"
          ]
        }
      ]
    },
    {
      "cell_type": "code",
      "source": [
        "print('%d' %100)"
      ],
      "metadata": {
        "colab": {
          "base_uri": "https://localhost:8080/"
        },
        "id": "Rseyl-PUHnpT",
        "outputId": "780b711f-3c5b-4f55-a13d-7df979bd048a"
      },
      "execution_count": null,
      "outputs": [
        {
          "output_type": "stream",
          "name": "stdout",
          "text": [
            "100\n"
          ]
        }
      ]
    },
    {
      "cell_type": "code",
      "source": [
        "print('%d' %100.58)"
      ],
      "metadata": {
        "colab": {
          "base_uri": "https://localhost:8080/"
        },
        "id": "yU1kT7jsHxhz",
        "outputId": "e862dc8b-a4ee-410d-d002-58fce1c946e5"
      },
      "execution_count": null,
      "outputs": [
        {
          "output_type": "stream",
          "name": "stdout",
          "text": [
            "100\n"
          ]
        }
      ]
    },
    {
      "cell_type": "code",
      "source": [
        "print('%f' %-100.89)"
      ],
      "metadata": {
        "colab": {
          "base_uri": "https://localhost:8080/"
        },
        "id": "VGWQ6v3rH3ob",
        "outputId": "abbcf25f-9ec3-4a59-d352-4202261e17f0"
      },
      "execution_count": null,
      "outputs": [
        {
          "output_type": "stream",
          "name": "stdout",
          "text": [
            "-100.890000\n"
          ]
        }
      ]
    },
    {
      "cell_type": "code",
      "source": [
        "print('%.2f' %100.89)"
      ],
      "metadata": {
        "colab": {
          "base_uri": "https://localhost:8080/"
        },
        "id": "aipFgG7cIBIq",
        "outputId": "d31b72d2-e88c-43e9-9298-4d26d2fc47c5"
      },
      "execution_count": null,
      "outputs": [
        {
          "output_type": "stream",
          "name": "stdout",
          "text": [
            "100.89\n"
          ]
        }
      ]
    },
    {
      "cell_type": "code",
      "source": [
        "from math import pi\n",
        "print('%.2f' %pi)"
      ],
      "metadata": {
        "colab": {
          "base_uri": "https://localhost:8080/"
        },
        "id": "iNEcJ4hDI8kT",
        "outputId": "a8bc69c2-4019-4fb5-cd5a-6217e578fbae"
      },
      "execution_count": null,
      "outputs": [
        {
          "output_type": "stream",
          "name": "stdout",
          "text": [
            "3.14\n"
          ]
        }
      ]
    },
    {
      "cell_type": "code",
      "source": [
        "print('%.4f' %pi)"
      ],
      "metadata": {
        "colab": {
          "base_uri": "https://localhost:8080/"
        },
        "id": "kRi8ZAuhJx7L",
        "outputId": "2752dd40-f582-46ea-e00d-5b8a085c0474"
      },
      "execution_count": null,
      "outputs": [
        {
          "output_type": "stream",
          "name": "stdout",
          "text": [
            "3.1416\n"
          ]
        }
      ]
    },
    {
      "cell_type": "code",
      "source": [
        "print('%.50f' %pi)"
      ],
      "metadata": {
        "colab": {
          "base_uri": "https://localhost:8080/"
        },
        "id": "y9yw5GYJJ4e8",
        "outputId": "b1383749-5c81-4830-878b-52b4b2fb6f0e"
      },
      "execution_count": null,
      "outputs": [
        {
          "output_type": "stream",
          "name": "stdout",
          "text": [
            "3.14159265358979311599796346854418516159057617187500\n"
          ]
        }
      ]
    },
    {
      "cell_type": "code",
      "source": [
        "print('My age is', 25, 'I have', 3500.50,'Bth.')"
      ],
      "metadata": {
        "colab": {
          "base_uri": "https://localhost:8080/"
        },
        "id": "Ej7f5Y6WLaM8",
        "outputId": "768f3f74-b2c9-4137-94fe-a25ef02ddb19"
      },
      "execution_count": null,
      "outputs": [
        {
          "output_type": "stream",
          "name": "stdout",
          "text": [
            "My age is 25 I have 3500.5 Bth.\n"
          ]
        }
      ]
    },
    {
      "cell_type": "code",
      "source": [
        "print('My age is %d I have %.2f Bth.' %(25,3500.50))"
      ],
      "metadata": {
        "colab": {
          "base_uri": "https://localhost:8080/"
        },
        "id": "C8SWPsBrL98L",
        "outputId": "da519e31-bca0-4685-d489-241e69a6bee2"
      },
      "execution_count": null,
      "outputs": [
        {
          "output_type": "stream",
          "name": "stdout",
          "text": [
            "My age is 25 I have 3500.50 Bth.\n"
          ]
        }
      ]
    },
    {
      "cell_type": "code",
      "source": [
        "print('My age is '+str(25)+'I have'+ str(3500.50)+' Bth.')"
      ],
      "metadata": {
        "colab": {
          "base_uri": "https://localhost:8080/"
        },
        "id": "e3QKeufUMNUj",
        "outputId": "1c3c3a7b-d01a-49a3-e73b-10c1dad105f5"
      },
      "execution_count": null,
      "outputs": [
        {
          "output_type": "stream",
          "name": "stdout",
          "text": [
            "My age is 25I have3500.5 Bth.\n"
          ]
        }
      ]
    },
    {
      "cell_type": "code",
      "source": [
        "print('5+4 =', 5+4)"
      ],
      "metadata": {
        "colab": {
          "base_uri": "https://localhost:8080/"
        },
        "id": "4y0145nxMlMR",
        "outputId": "5853ada9-042e-4c3b-ff3f-2cbe815d77ef"
      },
      "execution_count": null,
      "outputs": [
        {
          "output_type": "stream",
          "name": "stdout",
          "text": [
            "5+4 = 9\n"
          ]
        }
      ]
    },
    {
      "cell_type": "code",
      "source": [
        "print('5+4 = %.2f' %(5+4))"
      ],
      "metadata": {
        "colab": {
          "base_uri": "https://localhost:8080/"
        },
        "id": "ngIZyAbvODzC",
        "outputId": "96353827-9822-4dda-d7d6-d44abcab2403"
      },
      "execution_count": null,
      "outputs": [
        {
          "output_type": "stream",
          "name": "stdout",
          "text": [
            "5+4 = 9.00\n"
          ]
        }
      ]
    },
    {
      "cell_type": "code",
      "source": [
        "print( '5+4 = ' +str(5+4))"
      ],
      "metadata": {
        "colab": {
          "base_uri": "https://localhost:8080/"
        },
        "id": "c5EO0BXiONGq",
        "outputId": "0c369416-456f-4a42-eef8-eb63ac529d30"
      },
      "execution_count": null,
      "outputs": [
        {
          "output_type": "stream",
          "name": "stdout",
          "text": [
            "5+4 = 9\n"
          ]
        }
      ]
    },
    {
      "cell_type": "code",
      "source": [
        "print(\"I'm Tharita\", \"I 'll keep practicing!\")"
      ],
      "metadata": {
        "colab": {
          "base_uri": "https://localhost:8080/"
        },
        "id": "oHwkLEMbPvX6",
        "outputId": "51dd4b19-bd7f-407c-d9b9-29178cbbf535"
      },
      "execution_count": null,
      "outputs": [
        {
          "output_type": "stream",
          "name": "stdout",
          "text": [
            "I'm Tharita I 'll keep practicing!\n"
          ]
        }
      ]
    },
    {
      "cell_type": "code",
      "source": [
        "print(\"I 'm Tharita \"+ \"I 'll keep practicing!\")"
      ],
      "metadata": {
        "colab": {
          "base_uri": "https://localhost:8080/"
        },
        "id": "onAWKRDRQGWq",
        "outputId": "e904c48f-f74a-4f2b-82b2-aa201ff5d510"
      },
      "execution_count": null,
      "outputs": [
        {
          "output_type": "stream",
          "name": "stdout",
          "text": [
            "I 'm Tharita I 'll keep practicing!\n"
          ]
        }
      ]
    },
    {
      "cell_type": "code",
      "source": [
        "print(1, 1, 2, 3, 5, 8, 13, 21, 34, 55)"
      ],
      "metadata": {
        "colab": {
          "base_uri": "https://localhost:8080/"
        },
        "id": "ECtjdEKOQdgT",
        "outputId": "6a86670a-514b-489d-a230-4042e46eaee9"
      },
      "execution_count": null,
      "outputs": [
        {
          "output_type": "stream",
          "name": "stdout",
          "text": [
            "1 1 2 3 5 8 13 21 34 55\n"
          ]
        }
      ]
    },
    {
      "cell_type": "code",
      "source": [
        "print('%d %d %d %d %d %d %d %d %d %d' %(1, 1, 2, 3, 5, 8, 13, 21, 34, 55))"
      ],
      "metadata": {
        "colab": {
          "base_uri": "https://localhost:8080/"
        },
        "id": "jq-NHImLQsVk",
        "outputId": "919406a7-8867-40f2-befb-9c18be228a0e"
      },
      "execution_count": null,
      "outputs": [
        {
          "output_type": "stream",
          "name": "stdout",
          "text": [
            "1 1 2 3 5 8 13 21 34 55\n"
          ]
        }
      ]
    }
  ]
}