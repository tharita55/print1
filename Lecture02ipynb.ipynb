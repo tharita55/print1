{
  "nbformat": 4,
  "nbformat_minor": 0,
  "metadata": {
    "colab": {
      "provenance": [],
      "authorship_tag": "ABX9TyOZa5bd2+f7t8yJEuHWy0hf",
      "include_colab_link": true
    },
    "kernelspec": {
      "name": "python3",
      "display_name": "Python 3"
    },
    "language_info": {
      "name": "python"
    }
  },
  "cells": [
    {
      "cell_type": "markdown",
      "metadata": {
        "id": "view-in-github",
        "colab_type": "text"
      },
      "source": [
        "<a href=\"https://colab.research.google.com/github/tharita55/print1/blob/main/Lecture02ipynb.ipynb\" target=\"_parent\"><img src=\"https://colab.research.google.com/assets/colab-badge.svg\" alt=\"Open In Colab\"/></a>"
      ]
    },
    {
      "cell_type": "code",
      "execution_count": 4,
      "metadata": {
        "colab": {
          "base_uri": "https://localhost:8080/"
        },
        "id": "ngLI8f0V9Vsw",
        "outputId": "4dcfd4a4-96ad-483c-ebd4-c8abd3811670"
      },
      "outputs": [
        {
          "output_type": "stream",
          "name": "stdout",
          "text": [
            "10\n"
          ]
        }
      ],
      "source": [
        "age = 10\n",
        "print(age)"
      ]
    },
    {
      "cell_type": "code",
      "source": [
        "first3letters = 'ABC'"
      ],
      "metadata": {
        "id": "Av-mWSmw_ONE"
      },
      "execution_count": 17,
      "outputs": []
    },
    {
      "cell_type": "code",
      "source": [
        "first_three_letters = 'ABC'"
      ],
      "metadata": {
        "id": "t_eYA8-__Y9F"
      },
      "execution_count": 16,
      "outputs": []
    },
    {
      "cell_type": "code",
      "source": [
        "firstThreeLetters = 'ABC'"
      ],
      "metadata": {
        "id": "I6x5k8Lp_jL1"
      },
      "execution_count": 15,
      "outputs": []
    },
    {
      "cell_type": "code",
      "source": [
        "integer = 10\n",
        "flpat   = 4.2\n",
        "string  = \"Hello\""
      ],
      "metadata": {
        "id": "4FYIIQ9_A_3v"
      },
      "execution_count": 14,
      "outputs": []
    },
    {
      "cell_type": "code",
      "source": [
        "x = 90\n",
        "y = 90.00\n",
        "\n",
        "print (x, ' ', y)"
      ],
      "metadata": {
        "colab": {
          "base_uri": "https://localhost:8080/"
        },
        "id": "M11PRTCMBeO-",
        "outputId": "7d3ec766-62c2-4bc6-b7a7-022e6dabb5da"
      },
      "execution_count": 20,
      "outputs": [
        {
          "output_type": "stream",
          "name": "stdout",
          "text": [
            "90   90.0\n"
          ]
        }
      ]
    },
    {
      "cell_type": "code",
      "source": [
        "x = 5\n",
        "y = 7\n",
        "\n",
        "x, y = y,x\n",
        "\n",
        "print ( 'x = %d   y = %d'   %(x,y))"
      ],
      "metadata": {
        "colab": {
          "base_uri": "https://localhost:8080/"
        },
        "id": "XE_TWfC5Cvx_",
        "outputId": "53b128ad-489b-4ed0-b042-b14ca32580e5"
      },
      "execution_count": 21,
      "outputs": [
        {
          "output_type": "stream",
          "name": "stdout",
          "text": [
            "x = 7   y = 5\n"
          ]
        }
      ]
    },
    {
      "cell_type": "code",
      "source": [
        "t = True\n",
        "type(t)"
      ],
      "metadata": {
        "colab": {
          "base_uri": "https://localhost:8080/"
        },
        "id": "JqqRK7ArEL_G",
        "outputId": "8120bda4-aaa7-4ae3-e15a-626cb73a0a4d"
      },
      "execution_count": 26,
      "outputs": [
        {
          "output_type": "execute_result",
          "data": {
            "text/plain": [
              "bool"
            ]
          },
          "metadata": {},
          "execution_count": 26
        }
      ]
    },
    {
      "cell_type": "code",
      "source": [
        "f = False\n",
        "type(f)\n",
        "print(f)"
      ],
      "metadata": {
        "colab": {
          "base_uri": "https://localhost:8080/"
        },
        "id": "AHmKB4FeEaYW",
        "outputId": "2a1998c2-4172-438d-9db7-87131465b834"
      },
      "execution_count": 25,
      "outputs": [
        {
          "output_type": "stream",
          "name": "stdout",
          "text": [
            "False\n"
          ]
        }
      ]
    }
  ]
}